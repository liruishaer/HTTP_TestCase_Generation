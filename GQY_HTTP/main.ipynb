{
 "cells": [
  {
   "cell_type": "code",
   "execution_count": 1,
   "metadata": {},
   "outputs": [],
   "source": [
    "import generator"
   ]
  },
  {
   "cell_type": "code",
   "execution_count": 2,
   "metadata": {},
   "outputs": [],
   "source": [
    "generator = generator.Generator()\n",
    "\n",
    "grammar_conf = 'grammar.conf'       #HTTP Request的Grammar配置文件\n",
    "rule_conf = 'rule.conf'             #HTTP Request的Rule配置文件"
   ]
  },
  {
   "cell_type": "code",
   "execution_count": 7,
   "metadata": {},
   "outputs": [],
   "source": [
    "#分别解析Grammar文件和Rule文件\n",
    "generator.conf_parse(grammar_conf)\n",
    "generator.conf_parse(rule_conf)"
   ]
  },
  {
   "cell_type": "code",
   "execution_count": 8,
   "metadata": {},
   "outputs": [],
   "source": [
    "#得到所有可能的HTTP Request的字符串表示\n",
    "requests = generator.get_request()"
   ]
  },
  {
   "cell_type": "code",
   "execution_count": 9,
   "metadata": {},
   "outputs": [
    {
     "name": "stdout",
     "output_type": "stream",
     "text": [
      "GET / HTTP/1.1\r\n",
      " Host:xxx456.tk\r\n",
      "Host: xxx123.tk\r\n",
      "Connection:Keep-Alive\r\n",
      "\r\n",
      "\n",
      "GET / HTTP/1.1\r\n",
      "Host: xxx456.tk\r\n",
      " Host:xxx123.tk\r\n",
      "Connection:Keep-Alive\r\n",
      "\r\n",
      "\n",
      "GET / HTTP/1.1\r\n",
      " Host:xxx123.tk\r\n",
      "Host: xxx456.tk\r\n",
      "Connection:Keep-Alive\r\n",
      "\r\n",
      "\n",
      "GET / HTTP/1.1\r\n",
      "Host: xxx123.tk\r\n",
      " Host:xxx456.tk\r\n",
      "Connection:Keep-Alive\r\n",
      "\r\n",
      "\n"
     ]
    }
   ],
   "source": [
    "for req in requests:\n",
    "    print (req)"
   ]
  },
  {
   "cell_type": "code",
   "execution_count": null,
   "metadata": {},
   "outputs": [],
   "source": []
  }
 ],
 "metadata": {
  "kernelspec": {
   "display_name": "Python 3",
   "language": "python",
   "name": "python3"
  },
  "language_info": {
   "codemirror_mode": {
    "name": "ipython",
    "version": 3
   },
   "file_extension": ".py",
   "mimetype": "text/x-python",
   "name": "python",
   "nbconvert_exporter": "python",
   "pygments_lexer": "ipython3",
   "version": "3.5.2"
  }
 },
 "nbformat": 4,
 "nbformat_minor": 2
}
