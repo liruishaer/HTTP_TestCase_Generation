{
 "cells": [
  {
   "cell_type": "code",
   "execution_count": 113,
   "metadata": {},
   "outputs": [
    {
     "name": "stdout",
     "output_type": "stream",
     "text": [
      "The autoreload extension is already loaded. To reload it, use:\n",
      "  %reload_ext autoreload\n"
     ]
    }
   ],
   "source": [
    "%load_ext autoreload\n",
    "%autoreload 2\n",
    "\n",
    "import http_request\n",
    "import utils"
   ]
  },
  {
   "cell_type": "code",
   "execution_count": 114,
   "metadata": {},
   "outputs": [],
   "source": [
    "filepath = '/home/gqy/Desktop/Http_Gengerator/Version_2/'"
   ]
  },
  {
   "cell_type": "code",
   "execution_count": 115,
   "metadata": {},
   "outputs": [
    {
     "data": {
      "text/plain": [
       "{'End_Line': ['\\r\\n'],\n",
       " 'Header_Line_CRLF': ['\\r\\n', '***'],\n",
       " 'Request_Line': {'HTTP_Version': ['HTTP/1.1'],\n",
       "  'Line_CRLF': ['\\r\\n'],\n",
       "  'Method': ['GET', 'POST'],\n",
       "  'Request_URI': ['/'],\n",
       "  'Space': [' ']}}"
      ]
     },
     "execution_count": 115,
     "metadata": {},
     "output_type": "execute_result"
    }
   ],
   "source": [
    "grammar_filename = 'grammar.conf'\n",
    "grammar = utils.load(filepath+grammar_filename)\n",
    "grammar"
   ]
  },
  {
   "cell_type": "code",
   "execution_count": 116,
   "metadata": {},
   "outputs": [
    {
     "data": {
      "text/plain": [
       "{'Header_Copy': [{'name': 'Host',\n",
       "   'num': 2,\n",
       "   'style': [-1, 1],\n",
       "   'value': ['xxx123.tk', 'xxx456.tk']},\n",
       "  {'name': 'Connection', 'num': 1, 'value': ['Keep-Alive']}]}"
      ]
     },
     "execution_count": 116,
     "metadata": {},
     "output_type": "execute_result"
    }
   ],
   "source": [
    "rule_filename = 'rule.conf'\n",
    "rule = utils.load(filepath+rule_filename)\n",
    "rule"
   ]
  },
  {
   "cell_type": "code",
   "execution_count": 117,
   "metadata": {},
   "outputs": [
    {
     "name": "stdout",
     "output_type": "stream",
     "text": [
      "{'End_Line': [], 'Header_Lines': [], 'Headers': {}, 'Header_Line_CRLF': [], 'Request_Line': []}\n"
     ]
    }
   ],
   "source": [
    "request = http_request.Request()\n",
    "print (request.__dict__)"
   ]
  },
  {
   "cell_type": "code",
   "execution_count": 118,
   "metadata": {},
   "outputs": [],
   "source": [
    "def conf_parse(conf_file,request):\n",
    "    '''\n",
    "    解析带有配置选项的文件conf_file,并给request的各属性赋值,如:\n",
    "    * request.Headers\n",
    "    * request.Request_Line\n",
    "    * request.Line_CRLF\n",
    "    * request.End_Line\n",
    "    '''\n",
    "    \n",
    "    conf_dict = utils.load(conf_file)\n",
    "    '''\n",
    "    conf_dict中每个key对应的value的type有三种取值情况:\n",
    "    * value是字符串列表，如 \"Header_Line_CRLF\": [\"\\r\\n\"]\n",
    "    * value是dict\n",
    "    * value是dict的列表\n",
    "    '''\n",
    "    for key,values in conf_dict.items():\n",
    "        func = getattr(request,key.lower())\n",
    "        \n",
    "        #key对应的值是dict\n",
    "        if isinstance(values,dict):\n",
    "            func(**values)\n",
    "        #key对应的值是列表\n",
    "        elif isinstance(values,list):\n",
    "            for value in values:\n",
    "                #列表中的元素是dict\n",
    "                if isinstance(value,dict):\n",
    "                    func(**value)\n",
    "                #列表中的元素不是dict，可能是数字、str或list\n",
    "                else:\n",
    "                    #注意:这里不是程序解包，是位置参数\n",
    "                    func(values)\n",
    "                    break    "
   ]
  },
  {
   "cell_type": "code",
   "execution_count": 119,
   "metadata": {},
   "outputs": [
    {
     "name": "stdout",
     "output_type": "stream",
     "text": [
      "{'End_Line': ['\\r\\n'], 'Header_Lines': [], 'Headers': {}, 'Header_Line_CRLF': ['\\r\\n', '***'], 'Request_Line': ['GET / HTTP/1.1\\r\\n', 'POST / HTTP/1.1\\r\\n']}\n"
     ]
    }
   ],
   "source": [
    "conf_parse(grammar,request)\n",
    "print (request.__dict__)"
   ]
  },
  {
   "cell_type": "code",
   "execution_count": 120,
   "metadata": {},
   "outputs": [
    {
     "name": "stdout",
     "output_type": "stream",
     "text": [
      "{'End_Line': ['\\r\\n'], 'Header_Lines': [], 'Headers': {'Connection': [(('Keep-Alive',), (0,))], 'Host': [(('xxx456.tk', 'xxx123.tk'), (-1, 1)), (('xxx456.tk', 'xxx123.tk'), (1, -1)), (('xxx123.tk', 'xxx456.tk'), (-1, 1)), (('xxx123.tk', 'xxx456.tk'), (1, -1))]}, 'Header_Line_CRLF': ['\\r\\n', '***'], 'Request_Line': ['GET / HTTP/1.1\\r\\n', 'POST / HTTP/1.1\\r\\n']}\n"
     ]
    }
   ],
   "source": [
    "conf_parse(rule,request)\n",
    "print (request.__dict__)"
   ]
  },
  {
   "cell_type": "code",
   "execution_count": 122,
   "metadata": {},
   "outputs": [
    {
     "name": "stdout",
     "output_type": "stream",
     "text": [
      "----------------> 16\n",
      "GET / HTTP/1.1\r\n",
      "Connection:Keep-Alive\r\n",
      " Host:xxx456.tk\r\n",
      "Host: xxx123.tk\r\n",
      "\r\n",
      "\n",
      "GET / HTTP/1.1\r\n",
      "Connection:Keep-Alive\r\n",
      "Host: xxx456.tk\r\n",
      " Host:xxx123.tk\r\n",
      "\r\n",
      "\n",
      "GET / HTTP/1.1\r\n",
      "Connection:Keep-Alive\r\n",
      " Host:xxx123.tk\r\n",
      "Host: xxx456.tk\r\n",
      "\r\n",
      "\n",
      "GET / HTTP/1.1\r\n",
      "Connection:Keep-Alive\r\n",
      "Host: xxx123.tk\r\n",
      " Host:xxx456.tk\r\n",
      "\r\n",
      "\n",
      "GET / HTTP/1.1\r\n",
      "Connection:Keep-Alive*** Host:xxx456.tk***Host: xxx123.tk***\r\n",
      "\n",
      "GET / HTTP/1.1\r\n",
      "Connection:Keep-Alive***Host: xxx456.tk*** Host:xxx123.tk***\r\n",
      "\n",
      "GET / HTTP/1.1\r\n",
      "Connection:Keep-Alive*** Host:xxx123.tk***Host: xxx456.tk***\r\n",
      "\n",
      "GET / HTTP/1.1\r\n",
      "Connection:Keep-Alive***Host: xxx123.tk*** Host:xxx456.tk***\r\n",
      "\n",
      "POST / HTTP/1.1\r\n",
      "Connection:Keep-Alive\r\n",
      " Host:xxx456.tk\r\n",
      "Host: xxx123.tk\r\n",
      "\r\n",
      "\n",
      "POST / HTTP/1.1\r\n",
      "Connection:Keep-Alive\r\n",
      "Host: xxx456.tk\r\n",
      " Host:xxx123.tk\r\n",
      "\r\n",
      "\n",
      "POST / HTTP/1.1\r\n",
      "Connection:Keep-Alive\r\n",
      " Host:xxx123.tk\r\n",
      "Host: xxx456.tk\r\n",
      "\r\n",
      "\n",
      "POST / HTTP/1.1\r\n",
      "Connection:Keep-Alive\r\n",
      "Host: xxx123.tk\r\n",
      " Host:xxx456.tk\r\n",
      "\r\n",
      "\n",
      "POST / HTTP/1.1\r\n",
      "Connection:Keep-Alive*** Host:xxx456.tk***Host: xxx123.tk***\r\n",
      "\n",
      "POST / HTTP/1.1\r\n",
      "Connection:Keep-Alive***Host: xxx456.tk*** Host:xxx123.tk***\r\n",
      "\n",
      "POST / HTTP/1.1\r\n",
      "Connection:Keep-Alive*** Host:xxx123.tk***Host: xxx456.tk***\r\n",
      "\n",
      "POST / HTTP/1.1\r\n",
      "Connection:Keep-Alive***Host: xxx123.tk*** Host:xxx456.tk***\r\n",
      "\n"
     ]
    }
   ],
   "source": [
    "#生成该request的所有字符串表示\n",
    "requests = request.get_request()\n",
    "for req in requests:\n",
    "    print (req)"
   ]
  },
  {
   "cell_type": "code",
   "execution_count": null,
   "metadata": {},
   "outputs": [],
   "source": []
  }
 ],
 "metadata": {
  "kernelspec": {
   "display_name": "Python 2",
   "language": "python",
   "name": "python2"
  },
  "language_info": {
   "codemirror_mode": {
    "name": "ipython",
    "version": 3
   },
   "file_extension": ".py",
   "mimetype": "text/x-python",
   "name": "python",
   "nbconvert_exporter": "python",
   "pygments_lexer": "ipython3",
   "version": "3.5.2"
  }
 },
 "nbformat": 4,
 "nbformat_minor": 2
}
